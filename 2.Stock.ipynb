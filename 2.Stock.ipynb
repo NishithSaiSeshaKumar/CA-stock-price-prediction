{
 "cells": [
  {
   "cell_type": "markdown",
   "metadata": {},
   "source": [
    "# **Task :**\n",
    "# **Stock Prediction :**\n",
    "### Take stock price of any company you want and predicts its price by using LSTM."
   ]
  },
  {
   "cell_type": "code",
   "execution_count": 3,
   "metadata": {},
   "outputs": [],
   "source": [
    "import pandas as pd"
   ]
  },
  {
   "cell_type": "markdown",
   "metadata": {},
   "source": [
    "# Get the stocks data from Tiingo API"
   ]
  },
  {
   "cell_type": "markdown",
   "metadata": {},
   "source": [
    "# Apple Stocks Data"
   ]
  },
  {
   "cell_type": "code",
   "execution_count": 4,
   "metadata": {},
   "outputs": [],
   "source": [
    "#getting stock price data from Tiingo\n",
    "from tiingo import TiingoClient\n",
    "\n",
    "config = {\n",
    "    'session': True,\n",
    "    'api_key': \"7012829c4f9717a201bea15de0719ae1e2baa685\",\n",
    "}\n",
    "\n",
    "client = TiingoClient(config)\n",
    "\n",
    "# Define the stock symbol and date range\n",
    "symbol = 'AAPL'\n",
    "start_date = '2018-01-01'\n",
    "end_date = '2023-11-09'\n",
    "\n",
    "df = client.get_ticker_price(symbol, startDate=start_date, endDate=end_date, fmt='csv')\n"
   ]
  },
  {
   "cell_type": "markdown",
   "metadata": {},
   "source": [
    "# Save data to csv"
   ]
  },
  {
   "cell_type": "code",
   "execution_count": 5,
   "metadata": {},
   "outputs": [],
   "source": [
    "csv_string =df\n",
    "\n",
    "# Specify the file path\n",
    "file_path = 'AAPL.csv'\n",
    "\n",
    "# Write the CSV string to a file\n",
    "with open(file_path, 'w') as file:\n",
    "    file.write(csv_string)"
   ]
  },
  {
   "cell_type": "markdown",
   "metadata": {},
   "source": [
    "# EDA"
   ]
  },
  {
   "cell_type": "code",
   "execution_count": 6,
   "metadata": {},
   "outputs": [],
   "source": [
    "#pandas read AAPL csv file\n",
    "df = pd.read_csv('AAPL.csv')"
   ]
  },
  {
   "cell_type": "code",
   "execution_count": 7,
   "metadata": {
    "scrolled": true
   },
   "outputs": [
    {
     "data": {
      "text/html": [
       "<div>\n",
       "<style scoped>\n",
       "    .dataframe tbody tr th:only-of-type {\n",
       "        vertical-align: middle;\n",
       "    }\n",
       "\n",
       "    .dataframe tbody tr th {\n",
       "        vertical-align: top;\n",
       "    }\n",
       "\n",
       "    .dataframe thead th {\n",
       "        text-align: right;\n",
       "    }\n",
       "</style>\n",
       "<table border=\"1\" class=\"dataframe\">\n",
       "  <thead>\n",
       "    <tr style=\"text-align: right;\">\n",
       "      <th></th>\n",
       "      <th>date</th>\n",
       "      <th>close</th>\n",
       "      <th>high</th>\n",
       "      <th>low</th>\n",
       "      <th>open</th>\n",
       "      <th>volume</th>\n",
       "      <th>adjClose</th>\n",
       "      <th>adjHigh</th>\n",
       "      <th>adjLow</th>\n",
       "      <th>adjOpen</th>\n",
       "      <th>adjVolume</th>\n",
       "      <th>divCash</th>\n",
       "      <th>splitFactor</th>\n",
       "    </tr>\n",
       "  </thead>\n",
       "  <tbody>\n",
       "    <tr>\n",
       "      <th>0</th>\n",
       "      <td>2018-01-02</td>\n",
       "      <td>172.26</td>\n",
       "      <td>172.30</td>\n",
       "      <td>169.26</td>\n",
       "      <td>170.16</td>\n",
       "      <td>25048048</td>\n",
       "      <td>40.722078</td>\n",
       "      <td>40.731534</td>\n",
       "      <td>40.012881</td>\n",
       "      <td>40.225640</td>\n",
       "      <td>100192192</td>\n",
       "      <td>0.0</td>\n",
       "      <td>1.0</td>\n",
       "    </tr>\n",
       "    <tr>\n",
       "      <th>1</th>\n",
       "      <td>2018-01-03</td>\n",
       "      <td>172.23</td>\n",
       "      <td>174.55</td>\n",
       "      <td>171.96</td>\n",
       "      <td>172.53</td>\n",
       "      <td>28819653</td>\n",
       "      <td>40.714986</td>\n",
       "      <td>41.263431</td>\n",
       "      <td>40.651158</td>\n",
       "      <td>40.785906</td>\n",
       "      <td>115278612</td>\n",
       "      <td>0.0</td>\n",
       "      <td>1.0</td>\n",
       "    </tr>\n",
       "    <tr>\n",
       "      <th>2</th>\n",
       "      <td>2018-01-04</td>\n",
       "      <td>173.03</td>\n",
       "      <td>173.47</td>\n",
       "      <td>172.08</td>\n",
       "      <td>172.54</td>\n",
       "      <td>22211345</td>\n",
       "      <td>40.904105</td>\n",
       "      <td>41.008121</td>\n",
       "      <td>40.679526</td>\n",
       "      <td>40.788270</td>\n",
       "      <td>88845380</td>\n",
       "      <td>0.0</td>\n",
       "      <td>1.0</td>\n",
       "    </tr>\n",
       "    <tr>\n",
       "      <th>3</th>\n",
       "      <td>2018-01-05</td>\n",
       "      <td>175.00</td>\n",
       "      <td>175.37</td>\n",
       "      <td>173.05</td>\n",
       "      <td>173.44</td>\n",
       "      <td>23016177</td>\n",
       "      <td>41.369811</td>\n",
       "      <td>41.457279</td>\n",
       "      <td>40.908833</td>\n",
       "      <td>41.001029</td>\n",
       "      <td>92064708</td>\n",
       "      <td>0.0</td>\n",
       "      <td>1.0</td>\n",
       "    </tr>\n",
       "    <tr>\n",
       "      <th>4</th>\n",
       "      <td>2018-01-08</td>\n",
       "      <td>174.35</td>\n",
       "      <td>175.61</td>\n",
       "      <td>173.93</td>\n",
       "      <td>174.35</td>\n",
       "      <td>20134092</td>\n",
       "      <td>41.216152</td>\n",
       "      <td>41.514014</td>\n",
       "      <td>41.116864</td>\n",
       "      <td>41.216152</td>\n",
       "      <td>80536368</td>\n",
       "      <td>0.0</td>\n",
       "      <td>1.0</td>\n",
       "    </tr>\n",
       "    <tr>\n",
       "      <th>...</th>\n",
       "      <td>...</td>\n",
       "      <td>...</td>\n",
       "      <td>...</td>\n",
       "      <td>...</td>\n",
       "      <td>...</td>\n",
       "      <td>...</td>\n",
       "      <td>...</td>\n",
       "      <td>...</td>\n",
       "      <td>...</td>\n",
       "      <td>...</td>\n",
       "      <td>...</td>\n",
       "      <td>...</td>\n",
       "      <td>...</td>\n",
       "    </tr>\n",
       "    <tr>\n",
       "      <th>1470</th>\n",
       "      <td>2023-11-03</td>\n",
       "      <td>176.65</td>\n",
       "      <td>176.82</td>\n",
       "      <td>173.35</td>\n",
       "      <td>174.24</td>\n",
       "      <td>79829246</td>\n",
       "      <td>176.422846</td>\n",
       "      <td>176.592628</td>\n",
       "      <td>173.127090</td>\n",
       "      <td>174.015945</td>\n",
       "      <td>79829246</td>\n",
       "      <td>0.0</td>\n",
       "      <td>1.0</td>\n",
       "    </tr>\n",
       "    <tr>\n",
       "      <th>1471</th>\n",
       "      <td>2023-11-06</td>\n",
       "      <td>179.23</td>\n",
       "      <td>179.43</td>\n",
       "      <td>176.21</td>\n",
       "      <td>176.38</td>\n",
       "      <td>63841310</td>\n",
       "      <td>178.999529</td>\n",
       "      <td>179.199271</td>\n",
       "      <td>175.983412</td>\n",
       "      <td>176.153193</td>\n",
       "      <td>63841310</td>\n",
       "      <td>0.0</td>\n",
       "      <td>1.0</td>\n",
       "    </tr>\n",
       "    <tr>\n",
       "      <th>1472</th>\n",
       "      <td>2023-11-07</td>\n",
       "      <td>181.82</td>\n",
       "      <td>182.44</td>\n",
       "      <td>178.97</td>\n",
       "      <td>179.18</td>\n",
       "      <td>70529966</td>\n",
       "      <td>181.586198</td>\n",
       "      <td>182.205401</td>\n",
       "      <td>178.739863</td>\n",
       "      <td>178.949593</td>\n",
       "      <td>70529966</td>\n",
       "      <td>0.0</td>\n",
       "      <td>1.0</td>\n",
       "    </tr>\n",
       "    <tr>\n",
       "      <th>1473</th>\n",
       "      <td>2023-11-08</td>\n",
       "      <td>182.89</td>\n",
       "      <td>183.45</td>\n",
       "      <td>181.59</td>\n",
       "      <td>182.35</td>\n",
       "      <td>49340282</td>\n",
       "      <td>182.654822</td>\n",
       "      <td>183.214102</td>\n",
       "      <td>181.356494</td>\n",
       "      <td>182.115517</td>\n",
       "      <td>49340282</td>\n",
       "      <td>0.0</td>\n",
       "      <td>1.0</td>\n",
       "    </tr>\n",
       "    <tr>\n",
       "      <th>1474</th>\n",
       "      <td>2023-11-09</td>\n",
       "      <td>182.41</td>\n",
       "      <td>184.12</td>\n",
       "      <td>181.81</td>\n",
       "      <td>182.96</td>\n",
       "      <td>53763540</td>\n",
       "      <td>182.175439</td>\n",
       "      <td>183.883240</td>\n",
       "      <td>181.576211</td>\n",
       "      <td>182.724732</td>\n",
       "      <td>53763540</td>\n",
       "      <td>0.0</td>\n",
       "      <td>1.0</td>\n",
       "    </tr>\n",
       "  </tbody>\n",
       "</table>\n",
       "<p>1475 rows × 13 columns</p>\n",
       "</div>"
      ],
      "text/plain": [
       "            date   close    high     low    open    volume    adjClose  \\\n",
       "0     2018-01-02  172.26  172.30  169.26  170.16  25048048   40.722078   \n",
       "1     2018-01-03  172.23  174.55  171.96  172.53  28819653   40.714986   \n",
       "2     2018-01-04  173.03  173.47  172.08  172.54  22211345   40.904105   \n",
       "3     2018-01-05  175.00  175.37  173.05  173.44  23016177   41.369811   \n",
       "4     2018-01-08  174.35  175.61  173.93  174.35  20134092   41.216152   \n",
       "...          ...     ...     ...     ...     ...       ...         ...   \n",
       "1470  2023-11-03  176.65  176.82  173.35  174.24  79829246  176.422846   \n",
       "1471  2023-11-06  179.23  179.43  176.21  176.38  63841310  178.999529   \n",
       "1472  2023-11-07  181.82  182.44  178.97  179.18  70529966  181.586198   \n",
       "1473  2023-11-08  182.89  183.45  181.59  182.35  49340282  182.654822   \n",
       "1474  2023-11-09  182.41  184.12  181.81  182.96  53763540  182.175439   \n",
       "\n",
       "         adjHigh      adjLow     adjOpen  adjVolume  divCash  splitFactor  \n",
       "0      40.731534   40.012881   40.225640  100192192      0.0          1.0  \n",
       "1      41.263431   40.651158   40.785906  115278612      0.0          1.0  \n",
       "2      41.008121   40.679526   40.788270   88845380      0.0          1.0  \n",
       "3      41.457279   40.908833   41.001029   92064708      0.0          1.0  \n",
       "4      41.514014   41.116864   41.216152   80536368      0.0          1.0  \n",
       "...          ...         ...         ...        ...      ...          ...  \n",
       "1470  176.592628  173.127090  174.015945   79829246      0.0          1.0  \n",
       "1471  179.199271  175.983412  176.153193   63841310      0.0          1.0  \n",
       "1472  182.205401  178.739863  178.949593   70529966      0.0          1.0  \n",
       "1473  183.214102  181.356494  182.115517   49340282      0.0          1.0  \n",
       "1474  183.883240  181.576211  182.724732   53763540      0.0          1.0  \n",
       "\n",
       "[1475 rows x 13 columns]"
      ]
     },
     "execution_count": 7,
     "metadata": {},
     "output_type": "execute_result"
    }
   ],
   "source": [
    "df"
   ]
  },
  {
   "cell_type": "code",
   "execution_count": 8,
   "metadata": {},
   "outputs": [
    {
     "data": {
      "text/plain": [
       "(1475, 13)"
      ]
     },
     "execution_count": 8,
     "metadata": {},
     "output_type": "execute_result"
    }
   ],
   "source": [
    "df.shape"
   ]
  },
  {
   "cell_type": "markdown",
   "metadata": {},
   "source": [
    "# Separate the targeted stock prices"
   ]
  },
  {
   "cell_type": "code",
   "execution_count": 9,
   "metadata": {},
   "outputs": [],
   "source": [
    "df1=df.reset_index()['close']"
   ]
  },
  {
   "cell_type": "code",
   "execution_count": 10,
   "metadata": {},
   "outputs": [
    {
     "data": {
      "text/plain": [
       "0       172.26\n",
       "1       172.23\n",
       "2       173.03\n",
       "3       175.00\n",
       "4       174.35\n",
       "         ...  \n",
       "1470    176.65\n",
       "1471    179.23\n",
       "1472    181.82\n",
       "1473    182.89\n",
       "1474    182.41\n",
       "Name: close, Length: 1475, dtype: float64"
      ]
     },
     "execution_count": 10,
     "metadata": {},
     "output_type": "execute_result"
    }
   ],
   "source": [
    "df1"
   ]
  },
  {
   "cell_type": "markdown",
   "metadata": {},
   "source": [
    "Stock"
   ]
  },
  {
   "cell_type": "markdown",
   "metadata": {},
   "source": [
    "# Plot the actual stock prices"
   ]
  },
  {
   "cell_type": "code",
   "execution_count": 11,
   "metadata": {},
   "outputs": [
    {
     "data": {
      "text/plain": [
       "[<matplotlib.lines.Line2D at 0x286984ce0d0>]"
      ]
     },
     "execution_count": 11,
     "metadata": {},
     "output_type": "execute_result"
    },
    {
     "data": {
      "image/png": "[encoded data removed]",
      "text/plain": [
       "<Figure size 640x480 with 1 Axes>"
      ]
     },
     "metadata": {},
     "output_type": "display_data"
    }
   ],
   "source": [
    "import matplotlib.pyplot as plt\n",
    "plt.plot(df1)"
   ]
  },
  {
   "cell_type": "markdown",
   "metadata": {},
   "source": [
    "### LSTM are sensitive to the scale of the data. so we apply MinMax scaler "
   ]
  },
  {
   "cell_type": "code",
   "execution_count": 13,
   "metadata": {},
   "outputs": [],
   "source": [
    "import numpy as np"
   ]
  },
  {
   "cell_type": "code",
   "execution_count": 12,
   "metadata": {},
   "outputs": [],
   "source": [
    "from sklearn.preprocessing import MinMaxScaler\n",
    "scaler=MinMaxScaler()"
   ]
  },
  {
   "cell_type": "code",
   "execution_count": 14,
   "metadata": {},
   "outputs": [],
   "source": [
    "df1 = df1.values.reshape(-1,1)\n",
    "\n",
    "# Initialize the MinMaxScaler\n",
    "scaler = MinMaxScaler()\n",
    "\n",
    "# Fit and transform the data\n",
    "df1 = scaler.fit_transform(df1)"
   ]
  },
  {
   "cell_type": "markdown",
   "metadata": {},
   "source": [
    "# Split the data into train and test"
   ]
  },
  {
   "cell_type": "code",
   "execution_count": 15,
   "metadata": {},
   "outputs": [],
   "source": [
    "##splitting dataset into train and test split\n",
    "training_size=int(len(df1)*0.65)\n",
    "test_size=len(df1)-training_size\n",
    "train_data,test_data=df1[0:training_size,:],df1[training_size:len(df1),:1]"
   ]
  },
  {
   "cell_type": "code",
   "execution_count": 16,
   "metadata": {},
   "outputs": [
    {
     "data": {
      "text/plain": [
       "(958, 517)"
      ]
     },
     "execution_count": 16,
     "metadata": {},
     "output_type": "execute_result"
    }
   ],
   "source": [
    "training_size,test_size"
   ]
  },
  {
   "cell_type": "markdown",
   "metadata": {},
   "source": [
    "### Make data for LSTM as X_train, y_train, X_test, y_test"
   ]
  },
  {
   "cell_type": "code",
   "execution_count": 17,
   "metadata": {},
   "outputs": [],
   "source": [
    "import numpy\n",
    "# convert an array of values into a dataset matrix\n",
    "def create_dataset(dataset, time_step=1):\n",
    "\tdataX, dataY = [], []\n",
    "\tfor i in range(len(dataset)-time_step-1):\n",
    "\t\ta = dataset[i:(i+time_step), 0]   ###i=0, 0,1,2,3-----99   100 \n",
    "\t\tdataX.append(a)\n",
    "\t\tdataY.append(dataset[i + time_step, 0])\n",
    "\treturn numpy.array(dataX), numpy.array(dataY)"
   ]
  },
  {
   "cell_type": "code",
   "execution_count": 18,
   "metadata": {},
   "outputs": [],
   "source": [
    "# reshape into X=t,t+1,t+2,t+3 and Y=t+4\n",
    "time_step = 100\n",
    "X_train, y_train = create_dataset(train_data, time_step)\n",
    "X_test, ytest = create_dataset(test_data, time_step)"
   ]
  },
  {
   "cell_type": "code",
   "execution_count": 19,
   "metadata": {},
   "outputs": [
    {
     "name": "stdout",
     "output_type": "stream",
     "text": [
      "(857, 100)\n",
      "(857,)\n"
     ]
    },
    {
     "data": {
      "text/plain": [
       "(None, None)"
      ]
     },
     "execution_count": 19,
     "metadata": {},
     "output_type": "execute_result"
    }
   ],
   "source": [
    "print(X_train.shape), print(y_train.shape)"
   ]
  },
  {
   "cell_type": "code",
   "execution_count": 20,
   "metadata": {},
   "outputs": [
    {
     "name": "stdout",
     "output_type": "stream",
     "text": [
      "(416, 100)\n",
      "(416,)\n"
     ]
    },
    {
     "data": {
      "text/plain": [
       "(None, None)"
      ]
     },
     "execution_count": 20,
     "metadata": {},
     "output_type": "execute_result"
    }
   ],
   "source": [
    "print(X_test.shape), print(ytest.shape)"
   ]
  },
  {
   "cell_type": "code",
   "execution_count": 21,
   "metadata": {},
   "outputs": [],
   "source": [
    "# reshape input to be [samples, time steps, features] which is required for LSTM\n",
    "X_train =X_train.reshape(X_train.shape[0],X_train.shape[1] , 1)\n",
    "X_test = X_test.reshape(X_test.shape[0],X_test.shape[1] , 1)"
   ]
  },
  {
   "cell_type": "markdown",
   "metadata": {},
   "source": [
    "### Build the LSTM model"
   ]
  },
  {
   "cell_type": "code",
   "execution_count": 22,
   "metadata": {},
   "outputs": [],
   "source": [
    "### Create the Stacked LSTM model\n",
    "from tensorflow.keras.models import Sequential\n",
    "from tensorflow.keras.layers import Dense\n",
    "from tensorflow.keras.layers import LSTM"
   ]
  },
  {
   "cell_type": "code",
   "execution_count": 23,
   "metadata": {},
   "outputs": [],
   "source": [
    "model=Sequential()\n",
    "model.add(LSTM(50,return_sequences=True,input_shape=(100,1)))\n",
    "model.add(LSTM(50,return_sequences=True))\n",
    "model.add(LSTM(50))\n",
    "model.add(Dense(1))\n",
    "model.compile(loss='mean_squared_error',optimizer='adam')\n"
   ]
  },
  {
   "cell_type": "code",
   "execution_count": 24,
   "metadata": {
    "scrolled": true
   },
   "outputs": [
    {
     "name": "stdout",
     "output_type": "stream",
     "text": [
      "Model: \"sequential\"\n",
      "_________________________________________________________________\n",
      " Layer (type)                Output Shape              Param #   \n",
      "=================================================================\n",
      " lstm (LSTM)                 (None, 100, 50)           10400     \n",
      "                                                                 \n",
      " lstm_1 (LSTM)               (None, 100, 50)           20200     \n",
      "                                                                 \n",
      " lstm_2 (LSTM)               (None, 50)                20200     \n",
      "                                                                 \n",
      " dense (Dense)               (None, 1)                 51        \n",
      "                                                                 \n",
      "=================================================================\n",
      "Total params: 50851 (198.64 KB)\n",
      "Trainable params: 50851 (198.64 KB)\n",
      "Non-trainable params: 0 (0.00 Byte)\n",
      "_________________________________________________________________\n"
     ]
    }
   ],
   "source": [
    "model.summary()"
   ]
  },
  {
   "cell_type": "markdown",
   "metadata": {},
   "source": [
    "### Train the model"
   ]
  },
  {
   "cell_type": "code",
   "execution_count": 25,
   "metadata": {},
   "outputs": [
    {
     "name": "stdout",
     "output_type": "stream",
     "text": [
      "Epoch 1/100\n",
      "14/14 [==============================] - 6s 183ms/step - loss: 0.0400 - val_loss: 8.1874e-04\n",
      "Epoch 2/100\n",
      "14/14 [==============================] - 2s 116ms/step - loss: 0.0133 - val_loss: 0.0029\n",
      "Epoch 3/100\n",
      "14/14 [==============================] - 2s 116ms/step - loss: 0.0088 - val_loss: 4.9315e-04\n",
      "Epoch 4/100\n",
      "14/14 [==============================] - 2s 117ms/step - loss: 0.0078 - val_loss: 3.3458e-04\n",
      "Epoch 5/100\n",
      "14/14 [==============================] - 2s 118ms/step - loss: 0.0075 - val_loss: 5.4256e-04\n",
      "Epoch 6/100\n",
      "14/14 [==============================] - 2s 117ms/step - loss: 0.0065 - val_loss: 4.2465e-04\n",
      "Epoch 7/100\n",
      "14/14 [==============================] - 2s 116ms/step - loss: 0.0059 - val_loss: 8.8958e-04\n",
      "Epoch 8/100\n",
      "14/14 [==============================] - 2s 115ms/step - loss: 0.0062 - val_loss: 0.0015\n",
      "Epoch 9/100\n",
      "14/14 [==============================] - 2s 117ms/step - loss: 0.0051 - val_loss: 2.8056e-04\n",
      "Epoch 10/100\n",
      "14/14 [==============================] - 2s 115ms/step - loss: 0.0045 - val_loss: 7.3676e-04\n",
      "Epoch 11/100\n",
      "14/14 [==============================] - 2s 115ms/step - loss: 0.0039 - val_loss: 2.9694e-04\n",
      "Epoch 12/100\n",
      "14/14 [==============================] - 2s 119ms/step - loss: 0.0035 - val_loss: 2.7938e-04\n",
      "Epoch 13/100\n",
      "14/14 [==============================] - 2s 122ms/step - loss: 0.0034 - val_loss: 3.7435e-04\n",
      "Epoch 14/100\n",
      "14/14 [==============================] - 2s 122ms/step - loss: 0.0035 - val_loss: 9.3682e-04\n",
      "Epoch 15/100\n",
      "14/14 [==============================] - 2s 121ms/step - loss: 0.0034 - val_loss: 2.5847e-04\n",
      "Epoch 16/100\n",
      "14/14 [==============================] - 2s 123ms/step - loss: 0.0026 - val_loss: 3.0405e-04\n",
      "Epoch 17/100\n",
      "14/14 [==============================] - 2s 122ms/step - loss: 0.0031 - val_loss: 3.9367e-04\n",
      "Epoch 18/100\n",
      "14/14 [==============================] - 2s 125ms/step - loss: 0.0029 - val_loss: 4.4310e-04\n",
      "Epoch 19/100\n",
      "14/14 [==============================] - 2s 118ms/step - loss: 0.0024 - val_loss: 2.8582e-04\n",
      "Epoch 20/100\n",
      "14/14 [==============================] - 2s 122ms/step - loss: 0.0018 - val_loss: 2.2933e-04\n",
      "Epoch 21/100\n",
      "14/14 [==============================] - 2s 126ms/step - loss: 0.0018 - val_loss: 3.6653e-04\n",
      "Epoch 22/100\n",
      "14/14 [==============================] - 2s 121ms/step - loss: 0.0026 - val_loss: 2.2948e-04\n",
      "Epoch 23/100\n",
      "14/14 [==============================] - 2s 123ms/step - loss: 0.0020 - val_loss: 2.5833e-04\n",
      "Epoch 24/100\n",
      "14/14 [==============================] - 2s 137ms/step - loss: 0.0018 - val_loss: 2.3624e-04\n",
      "Epoch 25/100\n",
      "14/14 [==============================] - 2s 129ms/step - loss: 0.0023 - val_loss: 5.0779e-04\n",
      "Epoch 26/100\n",
      "14/14 [==============================] - 2s 132ms/step - loss: 0.0021 - val_loss: 2.6242e-04\n",
      "Epoch 27/100\n",
      "14/14 [==============================] - 2s 120ms/step - loss: 0.0019 - val_loss: 4.6643e-04\n",
      "Epoch 28/100\n",
      "14/14 [==============================] - 2s 122ms/step - loss: 0.0023 - val_loss: 4.5718e-04\n",
      "Epoch 29/100\n",
      "14/14 [==============================] - 2s 123ms/step - loss: 0.0016 - val_loss: 3.0251e-04\n",
      "Epoch 30/100\n",
      "14/14 [==============================] - 2s 121ms/step - loss: 0.0020 - val_loss: 2.7017e-04\n",
      "Epoch 31/100\n",
      "14/14 [==============================] - 2s 121ms/step - loss: 0.0021 - val_loss: 2.3275e-04\n",
      "Epoch 32/100\n",
      "14/14 [==============================] - 2s 131ms/step - loss: 0.0017 - val_loss: 2.3975e-04\n",
      "Epoch 33/100\n",
      "14/14 [==============================] - 2s 125ms/step - loss: 0.0015 - val_loss: 3.5456e-04\n",
      "Epoch 34/100\n",
      "14/14 [==============================] - 2s 121ms/step - loss: 0.0016 - val_loss: 2.2869e-04\n",
      "Epoch 35/100\n",
      "14/14 [==============================] - 2s 121ms/step - loss: 0.0014 - val_loss: 4.4632e-04\n",
      "Epoch 36/100\n",
      "14/14 [==============================] - 2s 124ms/step - loss: 0.0017 - val_loss: 2.4594e-04\n",
      "Epoch 37/100\n",
      "14/14 [==============================] - 2s 123ms/step - loss: 0.0014 - val_loss: 2.9944e-04\n",
      "Epoch 38/100\n",
      "14/14 [==============================] - 2s 123ms/step - loss: 0.0014 - val_loss: 2.3630e-04\n",
      "Epoch 39/100\n",
      "14/14 [==============================] - 2s 122ms/step - loss: 0.0019 - val_loss: 2.3644e-04\n",
      "Epoch 40/100\n",
      "14/14 [==============================] - 2s 123ms/step - loss: 0.0034 - val_loss: 2.3453e-04\n",
      "Epoch 41/100\n",
      "14/14 [==============================] - 2s 123ms/step - loss: 0.0029 - val_loss: 4.4882e-04\n",
      "Epoch 42/100\n",
      "14/14 [==============================] - 2s 122ms/step - loss: 0.0026 - val_loss: 2.5248e-04\n",
      "Epoch 43/100\n",
      "14/14 [==============================] - 2s 126ms/step - loss: 0.0023 - val_loss: 2.5013e-04\n",
      "Epoch 44/100\n",
      "14/14 [==============================] - 2s 121ms/step - loss: 0.0015 - val_loss: 2.9506e-04\n",
      "Epoch 45/100\n",
      "14/14 [==============================] - 2s 121ms/step - loss: 0.0015 - val_loss: 2.3432e-04\n",
      "Epoch 46/100\n",
      "14/14 [==============================] - 2s 120ms/step - loss: 0.0014 - val_loss: 2.6107e-04\n",
      "Epoch 47/100\n",
      "14/14 [==============================] - 2s 121ms/step - loss: 0.0015 - val_loss: 2.4124e-04\n",
      "Epoch 48/100\n",
      "14/14 [==============================] - 2s 122ms/step - loss: 0.0014 - val_loss: 2.3807e-04\n",
      "Epoch 49/100\n",
      "14/14 [==============================] - 2s 121ms/step - loss: 0.0014 - val_loss: 2.7252e-04\n",
      "Epoch 50/100\n",
      "14/14 [==============================] - 2s 122ms/step - loss: 0.0023 - val_loss: 2.4336e-04\n",
      "Epoch 51/100\n",
      "14/14 [==============================] - 2s 121ms/step - loss: 0.0018 - val_loss: 6.5492e-04\n",
      "Epoch 52/100\n",
      "14/14 [==============================] - 2s 122ms/step - loss: 0.0018 - val_loss: 4.7040e-04\n",
      "Epoch 53/100\n",
      "14/14 [==============================] - 2s 125ms/step - loss: 0.0018 - val_loss: 2.7016e-04\n",
      "Epoch 54/100\n",
      "14/14 [==============================] - 2s 121ms/step - loss: 0.0013 - val_loss: 2.3132e-04\n",
      "Epoch 55/100\n",
      "14/14 [==============================] - 2s 122ms/step - loss: 0.0023 - val_loss: 2.3993e-04\n",
      "Epoch 56/100\n",
      "14/14 [==============================] - 2s 122ms/step - loss: 0.0018 - val_loss: 3.8127e-04\n",
      "Epoch 57/100\n",
      "14/14 [==============================] - 2s 130ms/step - loss: 0.0025 - val_loss: 4.0379e-04\n",
      "Epoch 58/100\n",
      "14/14 [==============================] - 2s 122ms/step - loss: 0.0012 - val_loss: 2.2157e-04\n",
      "Epoch 59/100\n",
      "14/14 [==============================] - 2s 122ms/step - loss: 0.0020 - val_loss: 3.2954e-04\n",
      "Epoch 60/100\n",
      "14/14 [==============================] - 2s 122ms/step - loss: 0.0026 - val_loss: 4.7546e-04\n",
      "Epoch 61/100\n",
      "14/14 [==============================] - 2s 122ms/step - loss: 0.0019 - val_loss: 2.4586e-04\n",
      "Epoch 62/100\n",
      "14/14 [==============================] - 2s 123ms/step - loss: 0.0016 - val_loss: 2.3716e-04\n",
      "Epoch 63/100\n",
      "14/14 [==============================] - 2s 120ms/step - loss: 0.0015 - val_loss: 2.4709e-04\n",
      "Epoch 64/100\n",
      "14/14 [==============================] - 2s 121ms/step - loss: 0.0014 - val_loss: 3.0549e-04\n",
      "Epoch 65/100\n",
      "14/14 [==============================] - 2s 118ms/step - loss: 0.0019 - val_loss: 5.2841e-04\n",
      "Epoch 66/100\n",
      "14/14 [==============================] - 2s 120ms/step - loss: 0.0012 - val_loss: 2.7531e-04\n",
      "Epoch 67/100\n",
      "14/14 [==============================] - 2s 119ms/step - loss: 0.0012 - val_loss: 2.5761e-04\n",
      "Epoch 68/100\n",
      "14/14 [==============================] - 2s 121ms/step - loss: 0.0015 - val_loss: 2.1911e-04\n",
      "Epoch 69/100\n",
      "14/14 [==============================] - 2s 123ms/step - loss: 0.0021 - val_loss: 2.3242e-04\n",
      "Epoch 70/100\n",
      "14/14 [==============================] - 2s 123ms/step - loss: 0.0023 - val_loss: 4.2981e-04\n",
      "Epoch 71/100\n",
      "14/14 [==============================] - 2s 122ms/step - loss: 0.0018 - val_loss: 2.2119e-04\n",
      "Epoch 72/100\n",
      "14/14 [==============================] - 2s 121ms/step - loss: 0.0019 - val_loss: 2.1516e-04\n",
      "Epoch 73/100\n",
      "14/14 [==============================] - 2s 123ms/step - loss: 0.0013 - val_loss: 4.6168e-04\n",
      "Epoch 74/100\n",
      "14/14 [==============================] - 2s 121ms/step - loss: 0.0014 - val_loss: 4.2875e-04\n",
      "Epoch 75/100\n",
      "14/14 [==============================] - 2s 122ms/step - loss: 0.0012 - val_loss: 3.0174e-04\n",
      "Epoch 76/100\n",
      "14/14 [==============================] - 2s 127ms/step - loss: 0.0011 - val_loss: 2.1522e-04\n",
      "Epoch 77/100\n",
      "14/14 [==============================] - 2s 125ms/step - loss: 0.0011 - val_loss: 3.9096e-04\n",
      "Epoch 78/100\n",
      "14/14 [==============================] - 2s 123ms/step - loss: 0.0014 - val_loss: 2.3486e-04\n",
      "Epoch 79/100\n",
      "14/14 [==============================] - 2s 124ms/step - loss: 0.0013 - val_loss: 2.1805e-04\n",
      "Epoch 80/100\n",
      "14/14 [==============================] - 2s 121ms/step - loss: 0.0016 - val_loss: 2.1027e-04\n",
      "Epoch 81/100\n",
      "14/14 [==============================] - 2s 121ms/step - loss: 0.0027 - val_loss: 3.1918e-04\n",
      "Epoch 82/100\n",
      "14/14 [==============================] - 2s 122ms/step - loss: 0.0033 - val_loss: 3.8595e-04\n",
      "Epoch 83/100\n",
      "14/14 [==============================] - 2s 122ms/step - loss: 0.0022 - val_loss: 2.1122e-04\n",
      "Epoch 84/100\n",
      "14/14 [==============================] - 4s 282ms/step - loss: 0.0025 - val_loss: 1.9422e-04\n",
      "Epoch 85/100\n",
      "14/14 [==============================] - 2s 136ms/step - loss: 0.0012 - val_loss: 3.1590e-04\n",
      "Epoch 86/100\n",
      "14/14 [==============================] - 4s 256ms/step - loss: 0.0012 - val_loss: 3.1457e-04\n",
      "Epoch 87/100\n",
      "14/14 [==============================] - 2s 119ms/step - loss: 0.0013 - val_loss: 1.9532e-04\n",
      "Epoch 88/100\n",
      "14/14 [==============================] - 2s 127ms/step - loss: 0.0019 - val_loss: 2.1881e-04\n",
      "Epoch 89/100\n",
      "14/14 [==============================] - 2s 127ms/step - loss: 0.0014 - val_loss: 2.1068e-04\n",
      "Epoch 90/100\n",
      "14/14 [==============================] - 2s 122ms/step - loss: 0.0013 - val_loss: 1.9418e-04\n",
      "Epoch 91/100\n",
      "14/14 [==============================] - 2s 125ms/step - loss: 0.0014 - val_loss: 2.2744e-04\n",
      "Epoch 92/100\n",
      "14/14 [==============================] - 2s 128ms/step - loss: 0.0011 - val_loss: 2.4604e-04\n",
      "Epoch 93/100\n",
      "14/14 [==============================] - 2s 127ms/step - loss: 0.0011 - val_loss: 2.0129e-04\n",
      "Epoch 94/100\n",
      "14/14 [==============================] - 2s 122ms/step - loss: 0.0024 - val_loss: 0.0015\n",
      "Epoch 95/100\n",
      "14/14 [==============================] - 2s 124ms/step - loss: 0.0021 - val_loss: 3.0992e-04\n",
      "Epoch 96/100\n",
      "14/14 [==============================] - 2s 131ms/step - loss: 0.0016 - val_loss: 4.2887e-04\n",
      "Epoch 97/100\n",
      "14/14 [==============================] - 2s 127ms/step - loss: 0.0013 - val_loss: 1.9452e-04\n",
      "Epoch 98/100\n",
      "14/14 [==============================] - 2s 129ms/step - loss: 0.0011 - val_loss: 1.9565e-04\n",
      "Epoch 99/100\n",
      "14/14 [==============================] - 2s 122ms/step - loss: 0.0012 - val_loss: 2.4886e-04\n",
      "Epoch 100/100\n",
      "14/14 [==============================] - 2s 125ms/step - loss: 0.0013 - val_loss: 1.9350e-04\n"
     ]
    },
    {
     "data": {
      "text/plain": [
       "<keras.src.callbacks.History at 0x286a5807810>"
      ]
     },
     "execution_count": 25,
     "metadata": {},
     "output_type": "execute_result"
    }
   ],
   "source": [
    "model.fit(X_train,y_train,validation_data=(X_test,ytest),epochs=100,batch_size=64,verbose=1)"
   ]
  },
  {
   "cell_type": "markdown",
   "metadata": {},
   "source": [
    "### Make Predictions"
   ]
  },
  {
   "cell_type": "code",
   "execution_count": 27,
   "metadata": {},
   "outputs": [],
   "source": [
    "import tensorflow as tf"
   ]
  },
  {
   "cell_type": "code",
   "execution_count": 28,
   "metadata": {},
   "outputs": [
    {
     "name": "stdout",
     "output_type": "stream",
     "text": [
      "27/27 [==============================] - 1s 21ms/step\n",
      "13/13 [==============================] - 0s 21ms/step\n"
     ]
    }
   ],
   "source": [
    "### Lets Do the prediction and check performance metrics\n",
    "train_predict=model.predict(X_train)\n",
    "test_predict=model.predict(X_test)"
   ]
  },
  {
   "cell_type": "code",
   "execution_count": 29,
   "metadata": {},
   "outputs": [],
   "source": [
    "##Transformback to original form\n",
    "train_predict=scaler.inverse_transform(train_predict)\n",
    "test_predict=scaler.inverse_transform(test_predict)"
   ]
  },
  {
   "cell_type": "markdown",
   "metadata": {},
   "source": [
    "### Plot the comparison between actual and predicted"
   ]
  },
  {
   "cell_type": "code",
   "execution_count": 30,
   "metadata": {},
   "outputs": [
    {
     "data": {
      "image/png": "[encoded data removed]",
      "text/plain": [
       "<Figure size 640x480 with 1 Axes>"
      ]
     },
     "metadata": {},
     "output_type": "display_data"
    }
   ],
   "source": [
    "### Plotting \n",
    "# shift train predictions for plotting\n",
    "look_back=100\n",
    "trainPredictPlot = numpy.empty_like(df1)\n",
    "trainPredictPlot[:, :] = np.nan\n",
    "trainPredictPlot[look_back:len(train_predict)+look_back, :] = train_predict\n",
    "# shift test predictions for plotting\n",
    "testPredictPlot = numpy.empty_like(df1)\n",
    "testPredictPlot[:, :] = numpy.nan\n",
    "testPredictPlot[len(train_predict)+(look_back*2)+1:len(df1)-1, :] = test_predict\n",
    "# plot baseline and predictions\n",
    "plt.plot(scaler.inverse_transform(df1),label=\"Actual Price\")\n",
    "plt.plot(trainPredictPlot,label=\"Train Price\")\n",
    "plt.plot(testPredictPlot,label=\"Predicted Price\")\n",
    "plt.legend()\n",
    "plt.show()"
   ]
  },
  {
   "cell_type": "code",
   "execution_count": 31,
   "metadata": {},
   "outputs": [
    {
     "data": {
      "text/plain": [
       "517"
      ]
     },
     "execution_count": 31,
     "metadata": {},
     "output_type": "execute_result"
    }
   ],
   "source": [
    "len(test_data)"
   ]
  },
  {
   "cell_type": "markdown",
   "metadata": {},
   "source": [
    "### Predict next 30 days with last 100 days data"
   ]
  },
  {
   "cell_type": "code",
   "execution_count": 32,
   "metadata": {},
   "outputs": [
    {
     "data": {
      "text/plain": [
       "(1, 100)"
      ]
     },
     "execution_count": 32,
     "metadata": {},
     "output_type": "execute_result"
    }
   ],
   "source": [
    "#taking last 100 days data\n",
    "x_input=test_data[417:].reshape(1,-1)\n",
    "x_input.shape\n"
   ]
  },
  {
   "cell_type": "code",
   "execution_count": 33,
   "metadata": {},
   "outputs": [],
   "source": [
    "temp_input=list(x_input)\n",
    "temp_input=temp_input[0].tolist()"
   ]
  },
  {
   "cell_type": "code",
   "execution_count": 34,
   "metadata": {},
   "outputs": [
    {
     "data": {
      "text/plain": [
       "[0.1931621790857858,\n",
       " 0.2007764558547276,\n",
       " 0.19997495303694424,\n",
       " 0.19644333124608637,\n",
       " 0.2034314339386349,\n",
       " 0.2064120225422667,\n",
       " 0.2072636192861615,\n",
       " 0.21823418910457104,\n",
       " 0.21445209768315587,\n",
       " 0.21162179085785848,\n",
       " 0.21282404508453345,\n",
       " 0.20999373825923606,\n",
       " 0.20480901690670006,\n",
       " 0.20348152786474638,\n",
       " 0.20771446462116466,\n",
       " 0.20964308077645577,\n",
       " 0.21001878522229173,\n",
       " 0.21828428303068248,\n",
       " 0.2176330619912335,\n",
       " 0.22106449592986843,\n",
       " 0.21613024420788973,\n",
       " 0.21314965560425791,\n",
       " 0.215178459611772,\n",
       " 0.21735754539762048,\n",
       " 0.21956167814652466,\n",
       " 0.21635566687539132,\n",
       " 0.22289292423293672,\n",
       " 0.22444583594239192,\n",
       " 0.22232936756418276,\n",
       " 0.21475266123982467,\n",
       " 0.21122103944896675,\n",
       " 0.1882279273638071,\n",
       " 0.18036318096430803,\n",
       " 0.18274264245460237,\n",
       " 0.1787100814026299,\n",
       " 0.17815904821540385,\n",
       " 0.17770820288040068,\n",
       " 0.18189104571070758,\n",
       " 0.1768566061365059,\n",
       " 0.1746524733876017,\n",
       " 0.16821540388227924,\n",
       " 0.16944270507200998,\n",
       " 0.17282404508453347,\n",
       " 0.17630557294927984,\n",
       " 0.18604884157795865,\n",
       " 0.17417658108954281,\n",
       " 0.17976205385097055,\n",
       " 0.18371947401377575,\n",
       " 0.1935629304946775,\n",
       " 0.20240450845335,\n",
       " 0.20295554164057605,\n",
       " 0.20693800876643703,\n",
       " 0.20753913587977452,\n",
       " 0.19053224796493418,\n",
       " 0.1771321227301189,\n",
       " 0.17868503443957418,\n",
       " 0.18164057608015027,\n",
       " 0.17397620538509706,\n",
       " 0.16874139010644956,\n",
       " 0.17257357545397617,\n",
       " 0.17074514715090788,\n",
       " 0.17815904821540385,\n",
       " 0.18091421415153408,\n",
       " 0.17194740137758296,\n",
       " 0.16804007514088914,\n",
       " 0.17019411396368184,\n",
       " 0.173425172197871,\n",
       " 0.16310582341891044,\n",
       " 0.15927363807138384,\n",
       " 0.15992485911083276,\n",
       " 0.16122730118973072,\n",
       " 0.16758922980588598,\n",
       " 0.16420788979336254,\n",
       " 0.1673638071383844,\n",
       " 0.17049467752035058,\n",
       " 0.17695679398872882,\n",
       " 0.18071383844708827,\n",
       " 0.17921102066374445,\n",
       " 0.18274264245460237,\n",
       " 0.1850219160926737,\n",
       " 0.18036318096430803,\n",
       " 0.18003757044458357,\n",
       " 0.17610519724483403,\n",
       " 0.17282404508453347,\n",
       " 0.17187226048841575,\n",
       " 0.1654101440200375,\n",
       " 0.1657107075767063,\n",
       " 0.1668127739511584,\n",
       " 0.16095178459611764,\n",
       " 0.15040701314965554,\n",
       " 0.1537382592360676,\n",
       " 0.15892298058860355,\n",
       " 0.16012523481527863,\n",
       " 0.16814026299311202,\n",
       " 0.17715716969317463,\n",
       " 0.17485284909204757,\n",
       " 0.1813149655604257,\n",
       " 0.18780212899185966,\n",
       " 0.19048215403882274,\n",
       " 0.1892798998121477]"
      ]
     },
     "execution_count": 34,
     "metadata": {},
     "output_type": "execute_result"
    }
   ],
   "source": [
    "temp_input"
   ]
  },
  {
   "cell_type": "markdown",
   "metadata": {},
   "source": [
    "### Split target data of last 100 days and 30 days"
   ]
  },
  {
   "cell_type": "code",
   "execution_count": 35,
   "metadata": {},
   "outputs": [
    {
     "name": "stdout",
     "output_type": "stream",
     "text": [
      "[0.17266583]\n",
      "101\n",
      "1 day input [0.20077646 0.19997495 0.19644333 0.20343143 0.20641202 0.20726362\n",
      " 0.21823419 0.2144521  0.21162179 0.21282405 0.20999374 0.20480902\n",
      " 0.20348153 0.20771446 0.20964308 0.21001879 0.21828428 0.21763306\n",
      " 0.2210645  0.21613024 0.21314966 0.21517846 0.21735755 0.21956168\n",
      " 0.21635567 0.22289292 0.22444584 0.22232937 0.21475266 0.21122104\n",
      " 0.18822793 0.18036318 0.18274264 0.17871008 0.17815905 0.1777082\n",
      " 0.18189105 0.17685661 0.17465247 0.1682154  0.16944271 0.17282405\n",
      " 0.17630557 0.18604884 0.17417658 0.17976205 0.18371947 0.19356293\n",
      " 0.20240451 0.20295554 0.20693801 0.20753914 0.19053225 0.17713212\n",
      " 0.17868503 0.18164058 0.17397621 0.16874139 0.17257358 0.17074515\n",
      " 0.17815905 0.18091421 0.1719474  0.16804008 0.17019411 0.17342517\n",
      " 0.16310582 0.15927364 0.15992486 0.1612273  0.16758923 0.16420789\n",
      " 0.16736381 0.17049468 0.17695679 0.18071384 0.17921102 0.18274264\n",
      " 0.18502192 0.18036318 0.18003757 0.1761052  0.17282405 0.17187226\n",
      " 0.16541014 0.16571071 0.16681277 0.16095178 0.15040701 0.15373826\n",
      " 0.15892298 0.16012523 0.16814026 0.17715717 0.17485285 0.18131497\n",
      " 0.18780213 0.19048215 0.1892799  0.17266583]\n",
      "1 day output [[0.17543127]]\n",
      "2 day input [0.19997495 0.19644333 0.20343143 0.20641202 0.20726362 0.21823419\n",
      " 0.2144521  0.21162179 0.21282405 0.20999374 0.20480902 0.20348153\n",
      " 0.20771446 0.20964308 0.21001879 0.21828428 0.21763306 0.2210645\n",
      " 0.21613024 0.21314966 0.21517846 0.21735755 0.21956168 0.21635567\n",
      " 0.22289292 0.22444584 0.22232937 0.21475266 0.21122104 0.18822793\n",
      " 0.18036318 0.18274264 0.17871008 0.17815905 0.1777082  0.18189105\n",
      " 0.17685661 0.17465247 0.1682154  0.16944271 0.17282405 0.17630557\n",
      " 0.18604884 0.17417658 0.17976205 0.18371947 0.19356293 0.20240451\n",
      " 0.20295554 0.20693801 0.20753914 0.19053225 0.17713212 0.17868503\n",
      " 0.18164058 0.17397621 0.16874139 0.17257358 0.17074515 0.17815905\n",
      " 0.18091421 0.1719474  0.16804008 0.17019411 0.17342517 0.16310582\n",
      " 0.15927364 0.15992486 0.1612273  0.16758923 0.16420789 0.16736381\n",
      " 0.17049468 0.17695679 0.18071384 0.17921102 0.18274264 0.18502192\n",
      " 0.18036318 0.18003757 0.1761052  0.17282405 0.17187226 0.16541014\n",
      " 0.16571071 0.16681277 0.16095178 0.15040701 0.15373826 0.15892298\n",
      " 0.16012523 0.16814026 0.17715717 0.17485285 0.18131497 0.18780213\n",
      " 0.19048215 0.1892799  0.17266583 0.17543127]\n",
      "2 day output [[0.17717417]]\n",
      "3 day input [0.19644333 0.20343143 0.20641202 0.20726362 0.21823419 0.2144521\n",
      " 0.21162179 0.21282405 0.20999374 0.20480902 0.20348153 0.20771446\n",
      " 0.20964308 0.21001879 0.21828428 0.21763306 0.2210645  0.21613024\n",
      " 0.21314966 0.21517846 0.21735755 0.21956168 0.21635567 0.22289292\n",
      " 0.22444584 0.22232937 0.21475266 0.21122104 0.18822793 0.18036318\n",
      " 0.18274264 0.17871008 0.17815905 0.1777082  0.18189105 0.17685661\n",
      " 0.17465247 0.1682154  0.16944271 0.17282405 0.17630557 0.18604884\n",
      " 0.17417658 0.17976205 0.18371947 0.19356293 0.20240451 0.20295554\n",
      " 0.20693801 0.20753914 0.19053225 0.17713212 0.17868503 0.18164058\n",
      " 0.17397621 0.16874139 0.17257358 0.17074515 0.17815905 0.18091421\n",
      " 0.1719474  0.16804008 0.17019411 0.17342517 0.16310582 0.15927364\n",
      " 0.15992486 0.1612273  0.16758923 0.16420789 0.16736381 0.17049468\n",
      " 0.17695679 0.18071384 0.17921102 0.18274264 0.18502192 0.18036318\n",
      " 0.18003757 0.1761052  0.17282405 0.17187226 0.16541014 0.16571071\n",
      " 0.16681277 0.16095178 0.15040701 0.15373826 0.15892298 0.16012523\n",
      " 0.16814026 0.17715717 0.17485285 0.18131497 0.18780213 0.19048215\n",
      " 0.1892799  0.17266583 0.17543127 0.17717417]\n",
      "3 day output [[0.1781445]]\n",
      "4 day input [0.20343143 0.20641202 0.20726362 0.21823419 0.2144521  0.21162179\n",
      " 0.21282405 0.20999374 0.20480902 0.20348153 0.20771446 0.20964308\n",
      " 0.21001879 0.21828428 0.21763306 0.2210645  0.21613024 0.21314966\n",
      " 0.21517846 0.21735755 0.21956168 0.21635567 0.22289292 0.22444584\n",
      " 0.22232937 0.21475266 0.21122104 0.18822793 0.18036318 0.18274264\n",
      " 0.17871008 0.17815905 0.1777082  0.18189105 0.17685661 0.17465247\n",
      " 0.1682154  0.16944271 0.17282405 0.17630557 0.18604884 0.17417658\n",
      " 0.17976205 0.18371947 0.19356293 0.20240451 0.20295554 0.20693801\n",
      " 0.20753914 0.19053225 0.17713212 0.17868503 0.18164058 0.17397621\n",
      " 0.16874139 0.17257358 0.17074515 0.17815905 0.18091421 0.1719474\n",
      " 0.16804008 0.17019411 0.17342517 0.16310582 0.15927364 0.15992486\n",
      " 0.1612273  0.16758923 0.16420789 0.16736381 0.17049468 0.17695679\n",
      " 0.18071384 0.17921102 0.18274264 0.18502192 0.18036318 0.18003757\n",
      " 0.1761052  0.17282405 0.17187226 0.16541014 0.16571071 0.16681277\n",
      " 0.16095178 0.15040701 0.15373826 0.15892298 0.16012523 0.16814026\n",
      " 0.17715717 0.17485285 0.18131497 0.18780213 0.19048215 0.1892799\n",
      " 0.17266583 0.17543127 0.17717417 0.1781445 ]\n",
      "4 day output [[0.17861176]]\n",
      "5 day input [0.20641202 0.20726362 0.21823419 0.2144521  0.21162179 0.21282405\n",
      " 0.20999374 0.20480902 0.20348153 0.20771446 0.20964308 0.21001879\n",
      " 0.21828428 0.21763306 0.2210645  0.21613024 0.21314966 0.21517846\n",
      " 0.21735755 0.21956168 0.21635567 0.22289292 0.22444584 0.22232937\n",
      " 0.21475266 0.21122104 0.18822793 0.18036318 0.18274264 0.17871008\n",
      " 0.17815905 0.1777082  0.18189105 0.17685661 0.17465247 0.1682154\n",
      " 0.16944271 0.17282405 0.17630557 0.18604884 0.17417658 0.17976205\n",
      " 0.18371947 0.19356293 0.20240451 0.20295554 0.20693801 0.20753914\n",
      " 0.19053225 0.17713212 0.17868503 0.18164058 0.17397621 0.16874139\n",
      " 0.17257358 0.17074515 0.17815905 0.18091421 0.1719474  0.16804008\n",
      " 0.17019411 0.17342517 0.16310582 0.15927364 0.15992486 0.1612273\n",
      " 0.16758923 0.16420789 0.16736381 0.17049468 0.17695679 0.18071384\n",
      " 0.17921102 0.18274264 0.18502192 0.18036318 0.18003757 0.1761052\n",
      " 0.17282405 0.17187226 0.16541014 0.16571071 0.16681277 0.16095178\n",
      " 0.15040701 0.15373826 0.15892298 0.16012523 0.16814026 0.17715717\n",
      " 0.17485285 0.18131497 0.18780213 0.19048215 0.1892799  0.17266583\n",
      " 0.17543127 0.17717417 0.1781445  0.17861176]\n",
      "5 day output [[0.17877547]]\n",
      "6 day input [0.20726362 0.21823419 0.2144521  0.21162179 0.21282405 0.20999374\n",
      " 0.20480902 0.20348153 0.20771446 0.20964308 0.21001879 0.21828428\n",
      " 0.21763306 0.2210645  0.21613024 0.21314966 0.21517846 0.21735755\n",
      " 0.21956168 0.21635567 0.22289292 0.22444584 0.22232937 0.21475266\n",
      " 0.21122104 0.18822793 0.18036318 0.18274264 0.17871008 0.17815905\n",
      " 0.1777082  0.18189105 0.17685661 0.17465247 0.1682154  0.16944271\n",
      " 0.17282405 0.17630557 0.18604884 0.17417658 0.17976205 0.18371947\n",
      " 0.19356293 0.20240451 0.20295554 0.20693801 0.20753914 0.19053225\n",
      " 0.17713212 0.17868503 0.18164058 0.17397621 0.16874139 0.17257358\n",
      " 0.17074515 0.17815905 0.18091421 0.1719474  0.16804008 0.17019411\n",
      " 0.17342517 0.16310582 0.15927364 0.15992486 0.1612273  0.16758923\n",
      " 0.16420789 0.16736381 0.17049468 0.17695679 0.18071384 0.17921102\n",
      " 0.18274264 0.18502192 0.18036318 0.18003757 0.1761052  0.17282405\n",
      " 0.17187226 0.16541014 0.16571071 0.16681277 0.16095178 0.15040701\n",
      " 0.15373826 0.15892298 0.16012523 0.16814026 0.17715717 0.17485285\n",
      " 0.18131497 0.18780213 0.19048215 0.1892799  0.17266583 0.17543127\n",
      " 0.17717417 0.1781445  0.17861176 0.17877547]\n",
      "6 day output [[0.17875974]]\n",
      "7 day input [0.21823419 0.2144521  0.21162179 0.21282405 0.20999374 0.20480902\n",
      " 0.20348153 0.20771446 0.20964308 0.21001879 0.21828428 0.21763306\n",
      " 0.2210645  0.21613024 0.21314966 0.21517846 0.21735755 0.21956168\n",
      " 0.21635567 0.22289292 0.22444584 0.22232937 0.21475266 0.21122104\n",
      " 0.18822793 0.18036318 0.18274264 0.17871008 0.17815905 0.1777082\n",
      " 0.18189105 0.17685661 0.17465247 0.1682154  0.16944271 0.17282405\n",
      " 0.17630557 0.18604884 0.17417658 0.17976205 0.18371947 0.19356293\n",
      " 0.20240451 0.20295554 0.20693801 0.20753914 0.19053225 0.17713212\n",
      " 0.17868503 0.18164058 0.17397621 0.16874139 0.17257358 0.17074515\n",
      " 0.17815905 0.18091421 0.1719474  0.16804008 0.17019411 0.17342517\n",
      " 0.16310582 0.15927364 0.15992486 0.1612273  0.16758923 0.16420789\n",
      " 0.16736381 0.17049468 0.17695679 0.18071384 0.17921102 0.18274264\n",
      " 0.18502192 0.18036318 0.18003757 0.1761052  0.17282405 0.17187226\n",
      " 0.16541014 0.16571071 0.16681277 0.16095178 0.15040701 0.15373826\n",
      " 0.15892298 0.16012523 0.16814026 0.17715717 0.17485285 0.18131497\n",
      " 0.18780213 0.19048215 0.1892799  0.17266583 0.17543127 0.17717417\n",
      " 0.1781445  0.17861176 0.17877547 0.17875974]\n",
      "7 day output [[0.17863293]]\n",
      "8 day input [0.2144521  0.21162179 0.21282405 0.20999374 0.20480902 0.20348153\n",
      " 0.20771446 0.20964308 0.21001879 0.21828428 0.21763306 0.2210645\n",
      " 0.21613024 0.21314966 0.21517846 0.21735755 0.21956168 0.21635567\n",
      " 0.22289292 0.22444584 0.22232937 0.21475266 0.21122104 0.18822793\n",
      " 0.18036318 0.18274264 0.17871008 0.17815905 0.1777082  0.18189105\n",
      " 0.17685661 0.17465247 0.1682154  0.16944271 0.17282405 0.17630557\n",
      " 0.18604884 0.17417658 0.17976205 0.18371947 0.19356293 0.20240451\n",
      " 0.20295554 0.20693801 0.20753914 0.19053225 0.17713212 0.17868503\n",
      " 0.18164058 0.17397621 0.16874139 0.17257358 0.17074515 0.17815905\n",
      " 0.18091421 0.1719474  0.16804008 0.17019411 0.17342517 0.16310582\n",
      " 0.15927364 0.15992486 0.1612273  0.16758923 0.16420789 0.16736381\n",
      " 0.17049468 0.17695679 0.18071384 0.17921102 0.18274264 0.18502192\n",
      " 0.18036318 0.18003757 0.1761052  0.17282405 0.17187226 0.16541014\n",
      " 0.16571071 0.16681277 0.16095178 0.15040701 0.15373826 0.15892298\n",
      " 0.16012523 0.16814026 0.17715717 0.17485285 0.18131497 0.18780213\n",
      " 0.19048215 0.1892799  0.17266583 0.17543127 0.17717417 0.1781445\n",
      " 0.17861176 0.17877547 0.17875974 0.17863293]\n",
      "8 day output [[0.17842974]]\n",
      "9 day input [0.21162179 0.21282405 0.20999374 0.20480902 0.20348153 0.20771446\n",
      " 0.20964308 0.21001879 0.21828428 0.21763306 0.2210645  0.21613024\n",
      " 0.21314966 0.21517846 0.21735755 0.21956168 0.21635567 0.22289292\n",
      " 0.22444584 0.22232937 0.21475266 0.21122104 0.18822793 0.18036318\n",
      " 0.18274264 0.17871008 0.17815905 0.1777082  0.18189105 0.17685661\n",
      " 0.17465247 0.1682154  0.16944271 0.17282405 0.17630557 0.18604884\n",
      " 0.17417658 0.17976205 0.18371947 0.19356293 0.20240451 0.20295554\n",
      " 0.20693801 0.20753914 0.19053225 0.17713212 0.17868503 0.18164058\n",
      " 0.17397621 0.16874139 0.17257358 0.17074515 0.17815905 0.18091421\n",
      " 0.1719474  0.16804008 0.17019411 0.17342517 0.16310582 0.15927364\n",
      " 0.15992486 0.1612273  0.16758923 0.16420789 0.16736381 0.17049468\n",
      " 0.17695679 0.18071384 0.17921102 0.18274264 0.18502192 0.18036318\n",
      " 0.18003757 0.1761052  0.17282405 0.17187226 0.16541014 0.16571071\n",
      " 0.16681277 0.16095178 0.15040701 0.15373826 0.15892298 0.16012523\n",
      " 0.16814026 0.17715717 0.17485285 0.18131497 0.18780213 0.19048215\n",
      " 0.1892799  0.17266583 0.17543127 0.17717417 0.1781445  0.17861176\n",
      " 0.17877547 0.17875974 0.17863293 0.17842974]\n",
      "9 day output [[0.17816715]]\n",
      "10 day input [0.21282405 0.20999374 0.20480902 0.20348153 0.20771446 0.20964308\n",
      " 0.21001879 0.21828428 0.21763306 0.2210645  0.21613024 0.21314966\n",
      " 0.21517846 0.21735755 0.21956168 0.21635567 0.22289292 0.22444584\n",
      " 0.22232937 0.21475266 0.21122104 0.18822793 0.18036318 0.18274264\n",
      " 0.17871008 0.17815905 0.1777082  0.18189105 0.17685661 0.17465247\n",
      " 0.1682154  0.16944271 0.17282405 0.17630557 0.18604884 0.17417658\n",
      " 0.17976205 0.18371947 0.19356293 0.20240451 0.20295554 0.20693801\n",
      " 0.20753914 0.19053225 0.17713212 0.17868503 0.18164058 0.17397621\n",
      " 0.16874139 0.17257358 0.17074515 0.17815905 0.18091421 0.1719474\n",
      " 0.16804008 0.17019411 0.17342517 0.16310582 0.15927364 0.15992486\n",
      " 0.1612273  0.16758923 0.16420789 0.16736381 0.17049468 0.17695679\n",
      " 0.18071384 0.17921102 0.18274264 0.18502192 0.18036318 0.18003757\n",
      " 0.1761052  0.17282405 0.17187226 0.16541014 0.16571071 0.16681277\n",
      " 0.16095178 0.15040701 0.15373826 0.15892298 0.16012523 0.16814026\n",
      " 0.17715717 0.17485285 0.18131497 0.18780213 0.19048215 0.1892799\n",
      " 0.17266583 0.17543127 0.17717417 0.1781445  0.17861176 0.17877547\n",
      " 0.17875974 0.17863293 0.17842974 0.17816715]\n"
     ]
    },
    {
     "name": "stdout",
     "output_type": "stream",
     "text": [
      "10 day output [[0.17785464]]\n",
      "11 day input [0.20999374 0.20480902 0.20348153 0.20771446 0.20964308 0.21001879\n",
      " 0.21828428 0.21763306 0.2210645  0.21613024 0.21314966 0.21517846\n",
      " 0.21735755 0.21956168 0.21635567 0.22289292 0.22444584 0.22232937\n",
      " 0.21475266 0.21122104 0.18822793 0.18036318 0.18274264 0.17871008\n",
      " 0.17815905 0.1777082  0.18189105 0.17685661 0.17465247 0.1682154\n",
      " 0.16944271 0.17282405 0.17630557 0.18604884 0.17417658 0.17976205\n",
      " 0.18371947 0.19356293 0.20240451 0.20295554 0.20693801 0.20753914\n",
      " 0.19053225 0.17713212 0.17868503 0.18164058 0.17397621 0.16874139\n",
      " 0.17257358 0.17074515 0.17815905 0.18091421 0.1719474  0.16804008\n",
      " 0.17019411 0.17342517 0.16310582 0.15927364 0.15992486 0.1612273\n",
      " 0.16758923 0.16420789 0.16736381 0.17049468 0.17695679 0.18071384\n",
      " 0.17921102 0.18274264 0.18502192 0.18036318 0.18003757 0.1761052\n",
      " 0.17282405 0.17187226 0.16541014 0.16571071 0.16681277 0.16095178\n",
      " 0.15040701 0.15373826 0.15892298 0.16012523 0.16814026 0.17715717\n",
      " 0.17485285 0.18131497 0.18780213 0.19048215 0.1892799  0.17266583\n",
      " 0.17543127 0.17717417 0.1781445  0.17861176 0.17877547 0.17875974\n",
      " 0.17863293 0.17842974 0.17816715 0.17785464]\n",
      "11 day output [[0.177499]]\n",
      "12 day input [0.20480902 0.20348153 0.20771446 0.20964308 0.21001879 0.21828428\n",
      " 0.21763306 0.2210645  0.21613024 0.21314966 0.21517846 0.21735755\n",
      " 0.21956168 0.21635567 0.22289292 0.22444584 0.22232937 0.21475266\n",
      " 0.21122104 0.18822793 0.18036318 0.18274264 0.17871008 0.17815905\n",
      " 0.1777082  0.18189105 0.17685661 0.17465247 0.1682154  0.16944271\n",
      " 0.17282405 0.17630557 0.18604884 0.17417658 0.17976205 0.18371947\n",
      " 0.19356293 0.20240451 0.20295554 0.20693801 0.20753914 0.19053225\n",
      " 0.17713212 0.17868503 0.18164058 0.17397621 0.16874139 0.17257358\n",
      " 0.17074515 0.17815905 0.18091421 0.1719474  0.16804008 0.17019411\n",
      " 0.17342517 0.16310582 0.15927364 0.15992486 0.1612273  0.16758923\n",
      " 0.16420789 0.16736381 0.17049468 0.17695679 0.18071384 0.17921102\n",
      " 0.18274264 0.18502192 0.18036318 0.18003757 0.1761052  0.17282405\n",
      " 0.17187226 0.16541014 0.16571071 0.16681277 0.16095178 0.15040701\n",
      " 0.15373826 0.15892298 0.16012523 0.16814026 0.17715717 0.17485285\n",
      " 0.18131497 0.18780213 0.19048215 0.1892799  0.17266583 0.17543127\n",
      " 0.17717417 0.1781445  0.17861176 0.17877547 0.17875974 0.17863293\n",
      " 0.17842974 0.17816715 0.17785464 0.177499  ]\n",
      "12 day output [[0.17710704]]\n",
      "13 day input [0.20348153 0.20771446 0.20964308 0.21001879 0.21828428 0.21763306\n",
      " 0.2210645  0.21613024 0.21314966 0.21517846 0.21735755 0.21956168\n",
      " 0.21635567 0.22289292 0.22444584 0.22232937 0.21475266 0.21122104\n",
      " 0.18822793 0.18036318 0.18274264 0.17871008 0.17815905 0.1777082\n",
      " 0.18189105 0.17685661 0.17465247 0.1682154  0.16944271 0.17282405\n",
      " 0.17630557 0.18604884 0.17417658 0.17976205 0.18371947 0.19356293\n",
      " 0.20240451 0.20295554 0.20693801 0.20753914 0.19053225 0.17713212\n",
      " 0.17868503 0.18164058 0.17397621 0.16874139 0.17257358 0.17074515\n",
      " 0.17815905 0.18091421 0.1719474  0.16804008 0.17019411 0.17342517\n",
      " 0.16310582 0.15927364 0.15992486 0.1612273  0.16758923 0.16420789\n",
      " 0.16736381 0.17049468 0.17695679 0.18071384 0.17921102 0.18274264\n",
      " 0.18502192 0.18036318 0.18003757 0.1761052  0.17282405 0.17187226\n",
      " 0.16541014 0.16571071 0.16681277 0.16095178 0.15040701 0.15373826\n",
      " 0.15892298 0.16012523 0.16814026 0.17715717 0.17485285 0.18131497\n",
      " 0.18780213 0.19048215 0.1892799  0.17266583 0.17543127 0.17717417\n",
      " 0.1781445  0.17861176 0.17877547 0.17875974 0.17863293 0.17842974\n",
      " 0.17816715 0.17785464 0.177499   0.17710704]\n",
      "13 day output [[0.1766857]]\n",
      "14 day input [0.20771446 0.20964308 0.21001879 0.21828428 0.21763306 0.2210645\n",
      " 0.21613024 0.21314966 0.21517846 0.21735755 0.21956168 0.21635567\n",
      " 0.22289292 0.22444584 0.22232937 0.21475266 0.21122104 0.18822793\n",
      " 0.18036318 0.18274264 0.17871008 0.17815905 0.1777082  0.18189105\n",
      " 0.17685661 0.17465247 0.1682154  0.16944271 0.17282405 0.17630557\n",
      " 0.18604884 0.17417658 0.17976205 0.18371947 0.19356293 0.20240451\n",
      " 0.20295554 0.20693801 0.20753914 0.19053225 0.17713212 0.17868503\n",
      " 0.18164058 0.17397621 0.16874139 0.17257358 0.17074515 0.17815905\n",
      " 0.18091421 0.1719474  0.16804008 0.17019411 0.17342517 0.16310582\n",
      " 0.15927364 0.15992486 0.1612273  0.16758923 0.16420789 0.16736381\n",
      " 0.17049468 0.17695679 0.18071384 0.17921102 0.18274264 0.18502192\n",
      " 0.18036318 0.18003757 0.1761052  0.17282405 0.17187226 0.16541014\n",
      " 0.16571071 0.16681277 0.16095178 0.15040701 0.15373826 0.15892298\n",
      " 0.16012523 0.16814026 0.17715717 0.17485285 0.18131497 0.18780213\n",
      " 0.19048215 0.1892799  0.17266583 0.17543127 0.17717417 0.1781445\n",
      " 0.17861176 0.17877547 0.17875974 0.17863293 0.17842974 0.17816715\n",
      " 0.17785464 0.177499   0.17710704 0.17668571]\n",
      "14 day output [[0.17624235]]\n",
      "15 day input [0.20964308 0.21001879 0.21828428 0.21763306 0.2210645  0.21613024\n",
      " 0.21314966 0.21517846 0.21735755 0.21956168 0.21635567 0.22289292\n",
      " 0.22444584 0.22232937 0.21475266 0.21122104 0.18822793 0.18036318\n",
      " 0.18274264 0.17871008 0.17815905 0.1777082  0.18189105 0.17685661\n",
      " 0.17465247 0.1682154  0.16944271 0.17282405 0.17630557 0.18604884\n",
      " 0.17417658 0.17976205 0.18371947 0.19356293 0.20240451 0.20295554\n",
      " 0.20693801 0.20753914 0.19053225 0.17713212 0.17868503 0.18164058\n",
      " 0.17397621 0.16874139 0.17257358 0.17074515 0.17815905 0.18091421\n",
      " 0.1719474  0.16804008 0.17019411 0.17342517 0.16310582 0.15927364\n",
      " 0.15992486 0.1612273  0.16758923 0.16420789 0.16736381 0.17049468\n",
      " 0.17695679 0.18071384 0.17921102 0.18274264 0.18502192 0.18036318\n",
      " 0.18003757 0.1761052  0.17282405 0.17187226 0.16541014 0.16571071\n",
      " 0.16681277 0.16095178 0.15040701 0.15373826 0.15892298 0.16012523\n",
      " 0.16814026 0.17715717 0.17485285 0.18131497 0.18780213 0.19048215\n",
      " 0.1892799  0.17266583 0.17543127 0.17717417 0.1781445  0.17861176\n",
      " 0.17877547 0.17875974 0.17863293 0.17842974 0.17816715 0.17785464\n",
      " 0.177499   0.17710704 0.17668571 0.17624235]\n",
      "15 day output [[0.1757841]]\n",
      "16 day input [0.21001879 0.21828428 0.21763306 0.2210645  0.21613024 0.21314966\n",
      " 0.21517846 0.21735755 0.21956168 0.21635567 0.22289292 0.22444584\n",
      " 0.22232937 0.21475266 0.21122104 0.18822793 0.18036318 0.18274264\n",
      " 0.17871008 0.17815905 0.1777082  0.18189105 0.17685661 0.17465247\n",
      " 0.1682154  0.16944271 0.17282405 0.17630557 0.18604884 0.17417658\n",
      " 0.17976205 0.18371947 0.19356293 0.20240451 0.20295554 0.20693801\n",
      " 0.20753914 0.19053225 0.17713212 0.17868503 0.18164058 0.17397621\n",
      " 0.16874139 0.17257358 0.17074515 0.17815905 0.18091421 0.1719474\n",
      " 0.16804008 0.17019411 0.17342517 0.16310582 0.15927364 0.15992486\n",
      " 0.1612273  0.16758923 0.16420789 0.16736381 0.17049468 0.17695679\n",
      " 0.18071384 0.17921102 0.18274264 0.18502192 0.18036318 0.18003757\n",
      " 0.1761052  0.17282405 0.17187226 0.16541014 0.16571071 0.16681277\n",
      " 0.16095178 0.15040701 0.15373826 0.15892298 0.16012523 0.16814026\n",
      " 0.17715717 0.17485285 0.18131497 0.18780213 0.19048215 0.1892799\n",
      " 0.17266583 0.17543127 0.17717417 0.1781445  0.17861176 0.17877547\n",
      " 0.17875974 0.17863293 0.17842974 0.17816715 0.17785464 0.177499\n",
      " 0.17710704 0.17668571 0.17624235 0.1757841 ]\n",
      "16 day output [[0.17531759]]\n",
      "17 day input [0.21828428 0.21763306 0.2210645  0.21613024 0.21314966 0.21517846\n",
      " 0.21735755 0.21956168 0.21635567 0.22289292 0.22444584 0.22232937\n",
      " 0.21475266 0.21122104 0.18822793 0.18036318 0.18274264 0.17871008\n",
      " 0.17815905 0.1777082  0.18189105 0.17685661 0.17465247 0.1682154\n",
      " 0.16944271 0.17282405 0.17630557 0.18604884 0.17417658 0.17976205\n",
      " 0.18371947 0.19356293 0.20240451 0.20295554 0.20693801 0.20753914\n",
      " 0.19053225 0.17713212 0.17868503 0.18164058 0.17397621 0.16874139\n",
      " 0.17257358 0.17074515 0.17815905 0.18091421 0.1719474  0.16804008\n",
      " 0.17019411 0.17342517 0.16310582 0.15927364 0.15992486 0.1612273\n",
      " 0.16758923 0.16420789 0.16736381 0.17049468 0.17695679 0.18071384\n",
      " 0.17921102 0.18274264 0.18502192 0.18036318 0.18003757 0.1761052\n",
      " 0.17282405 0.17187226 0.16541014 0.16571071 0.16681277 0.16095178\n",
      " 0.15040701 0.15373826 0.15892298 0.16012523 0.16814026 0.17715717\n",
      " 0.17485285 0.18131497 0.18780213 0.19048215 0.1892799  0.17266583\n",
      " 0.17543127 0.17717417 0.1781445  0.17861176 0.17877547 0.17875974\n",
      " 0.17863293 0.17842974 0.17816715 0.17785464 0.177499   0.17710704\n",
      " 0.17668571 0.17624235 0.1757841  0.17531759]\n",
      "17 day output [[0.17484874]]\n",
      "18 day input [0.21763306 0.2210645  0.21613024 0.21314966 0.21517846 0.21735755\n",
      " 0.21956168 0.21635567 0.22289292 0.22444584 0.22232937 0.21475266\n",
      " 0.21122104 0.18822793 0.18036318 0.18274264 0.17871008 0.17815905\n",
      " 0.1777082  0.18189105 0.17685661 0.17465247 0.1682154  0.16944271\n",
      " 0.17282405 0.17630557 0.18604884 0.17417658 0.17976205 0.18371947\n",
      " 0.19356293 0.20240451 0.20295554 0.20693801 0.20753914 0.19053225\n",
      " 0.17713212 0.17868503 0.18164058 0.17397621 0.16874139 0.17257358\n",
      " 0.17074515 0.17815905 0.18091421 0.1719474  0.16804008 0.17019411\n",
      " 0.17342517 0.16310582 0.15927364 0.15992486 0.1612273  0.16758923\n",
      " 0.16420789 0.16736381 0.17049468 0.17695679 0.18071384 0.17921102\n",
      " 0.18274264 0.18502192 0.18036318 0.18003757 0.1761052  0.17282405\n",
      " 0.17187226 0.16541014 0.16571071 0.16681277 0.16095178 0.15040701\n",
      " 0.15373826 0.15892298 0.16012523 0.16814026 0.17715717 0.17485285\n",
      " 0.18131497 0.18780213 0.19048215 0.1892799  0.17266583 0.17543127\n",
      " 0.17717417 0.1781445  0.17861176 0.17877547 0.17875974 0.17863293\n",
      " 0.17842974 0.17816715 0.17785464 0.177499   0.17710704 0.17668571\n",
      " 0.17624235 0.1757841  0.17531759 0.17484874]\n",
      "18 day output [[0.17438234]]\n",
      "19 day input [0.2210645  0.21613024 0.21314966 0.21517846 0.21735755 0.21956168\n",
      " 0.21635567 0.22289292 0.22444584 0.22232937 0.21475266 0.21122104\n",
      " 0.18822793 0.18036318 0.18274264 0.17871008 0.17815905 0.1777082\n",
      " 0.18189105 0.17685661 0.17465247 0.1682154  0.16944271 0.17282405\n",
      " 0.17630557 0.18604884 0.17417658 0.17976205 0.18371947 0.19356293\n",
      " 0.20240451 0.20295554 0.20693801 0.20753914 0.19053225 0.17713212\n",
      " 0.17868503 0.18164058 0.17397621 0.16874139 0.17257358 0.17074515\n",
      " 0.17815905 0.18091421 0.1719474  0.16804008 0.17019411 0.17342517\n",
      " 0.16310582 0.15927364 0.15992486 0.1612273  0.16758923 0.16420789\n",
      " 0.16736381 0.17049468 0.17695679 0.18071384 0.17921102 0.18274264\n",
      " 0.18502192 0.18036318 0.18003757 0.1761052  0.17282405 0.17187226\n",
      " 0.16541014 0.16571071 0.16681277 0.16095178 0.15040701 0.15373826\n",
      " 0.15892298 0.16012523 0.16814026 0.17715717 0.17485285 0.18131497\n",
      " 0.18780213 0.19048215 0.1892799  0.17266583 0.17543127 0.17717417\n",
      " 0.1781445  0.17861176 0.17877547 0.17875974 0.17863293 0.17842974\n",
      " 0.17816715 0.17785464 0.177499   0.17710704 0.17668571 0.17624235\n",
      " 0.1757841  0.17531759 0.17484874 0.17438234]\n",
      "19 day output [[0.17392233]]\n",
      "20 day input [0.21613024 0.21314966 0.21517846 0.21735755 0.21956168 0.21635567\n",
      " 0.22289292 0.22444584 0.22232937 0.21475266 0.21122104 0.18822793\n",
      " 0.18036318 0.18274264 0.17871008 0.17815905 0.1777082  0.18189105\n",
      " 0.17685661 0.17465247 0.1682154  0.16944271 0.17282405 0.17630557\n",
      " 0.18604884 0.17417658 0.17976205 0.18371947 0.19356293 0.20240451\n",
      " 0.20295554 0.20693801 0.20753914 0.19053225 0.17713212 0.17868503\n",
      " 0.18164058 0.17397621 0.16874139 0.17257358 0.17074515 0.17815905\n",
      " 0.18091421 0.1719474  0.16804008 0.17019411 0.17342517 0.16310582\n",
      " 0.15927364 0.15992486 0.1612273  0.16758923 0.16420789 0.16736381\n",
      " 0.17049468 0.17695679 0.18071384 0.17921102 0.18274264 0.18502192\n",
      " 0.18036318 0.18003757 0.1761052  0.17282405 0.17187226 0.16541014\n",
      " 0.16571071 0.16681277 0.16095178 0.15040701 0.15373826 0.15892298\n",
      " 0.16012523 0.16814026 0.17715717 0.17485285 0.18131497 0.18780213\n",
      " 0.19048215 0.1892799  0.17266583 0.17543127 0.17717417 0.1781445\n",
      " 0.17861176 0.17877547 0.17875974 0.17863293 0.17842974 0.17816715\n",
      " 0.17785464 0.177499   0.17710704 0.17668571 0.17624235 0.1757841\n",
      " 0.17531759 0.17484874 0.17438234 0.17392233]\n"
     ]
    },
    {
     "name": "stdout",
     "output_type": "stream",
     "text": [
      "20 day output [[0.17347142]]\n",
      "21 day input [0.21314966 0.21517846 0.21735755 0.21956168 0.21635567 0.22289292\n",
      " 0.22444584 0.22232937 0.21475266 0.21122104 0.18822793 0.18036318\n",
      " 0.18274264 0.17871008 0.17815905 0.1777082  0.18189105 0.17685661\n",
      " 0.17465247 0.1682154  0.16944271 0.17282405 0.17630557 0.18604884\n",
      " 0.17417658 0.17976205 0.18371947 0.19356293 0.20240451 0.20295554\n",
      " 0.20693801 0.20753914 0.19053225 0.17713212 0.17868503 0.18164058\n",
      " 0.17397621 0.16874139 0.17257358 0.17074515 0.17815905 0.18091421\n",
      " 0.1719474  0.16804008 0.17019411 0.17342517 0.16310582 0.15927364\n",
      " 0.15992486 0.1612273  0.16758923 0.16420789 0.16736381 0.17049468\n",
      " 0.17695679 0.18071384 0.17921102 0.18274264 0.18502192 0.18036318\n",
      " 0.18003757 0.1761052  0.17282405 0.17187226 0.16541014 0.16571071\n",
      " 0.16681277 0.16095178 0.15040701 0.15373826 0.15892298 0.16012523\n",
      " 0.16814026 0.17715717 0.17485285 0.18131497 0.18780213 0.19048215\n",
      " 0.1892799  0.17266583 0.17543127 0.17717417 0.1781445  0.17861176\n",
      " 0.17877547 0.17875974 0.17863293 0.17842974 0.17816715 0.17785464\n",
      " 0.177499   0.17710704 0.17668571 0.17624235 0.1757841  0.17531759\n",
      " 0.17484874 0.17438234 0.17392233 0.17347142]\n",
      "21 day output [[0.17303167]]\n",
      "22 day input [0.21517846 0.21735755 0.21956168 0.21635567 0.22289292 0.22444584\n",
      " 0.22232937 0.21475266 0.21122104 0.18822793 0.18036318 0.18274264\n",
      " 0.17871008 0.17815905 0.1777082  0.18189105 0.17685661 0.17465247\n",
      " 0.1682154  0.16944271 0.17282405 0.17630557 0.18604884 0.17417658\n",
      " 0.17976205 0.18371947 0.19356293 0.20240451 0.20295554 0.20693801\n",
      " 0.20753914 0.19053225 0.17713212 0.17868503 0.18164058 0.17397621\n",
      " 0.16874139 0.17257358 0.17074515 0.17815905 0.18091421 0.1719474\n",
      " 0.16804008 0.17019411 0.17342517 0.16310582 0.15927364 0.15992486\n",
      " 0.1612273  0.16758923 0.16420789 0.16736381 0.17049468 0.17695679\n",
      " 0.18071384 0.17921102 0.18274264 0.18502192 0.18036318 0.18003757\n",
      " 0.1761052  0.17282405 0.17187226 0.16541014 0.16571071 0.16681277\n",
      " 0.16095178 0.15040701 0.15373826 0.15892298 0.16012523 0.16814026\n",
      " 0.17715717 0.17485285 0.18131497 0.18780213 0.19048215 0.1892799\n",
      " 0.17266583 0.17543127 0.17717417 0.1781445  0.17861176 0.17877547\n",
      " 0.17875974 0.17863293 0.17842974 0.17816715 0.17785464 0.177499\n",
      " 0.17710704 0.17668571 0.17624235 0.1757841  0.17531759 0.17484874\n",
      " 0.17438234 0.17392233 0.17347142 0.17303167]\n",
      "22 day output [[0.17260428]]\n",
      "23 day input [0.21735755 0.21956168 0.21635567 0.22289292 0.22444584 0.22232937\n",
      " 0.21475266 0.21122104 0.18822793 0.18036318 0.18274264 0.17871008\n",
      " 0.17815905 0.1777082  0.18189105 0.17685661 0.17465247 0.1682154\n",
      " 0.16944271 0.17282405 0.17630557 0.18604884 0.17417658 0.17976205\n",
      " 0.18371947 0.19356293 0.20240451 0.20295554 0.20693801 0.20753914\n",
      " 0.19053225 0.17713212 0.17868503 0.18164058 0.17397621 0.16874139\n",
      " 0.17257358 0.17074515 0.17815905 0.18091421 0.1719474  0.16804008\n",
      " 0.17019411 0.17342517 0.16310582 0.15927364 0.15992486 0.1612273\n",
      " 0.16758923 0.16420789 0.16736381 0.17049468 0.17695679 0.18071384\n",
      " 0.17921102 0.18274264 0.18502192 0.18036318 0.18003757 0.1761052\n",
      " 0.17282405 0.17187226 0.16541014 0.16571071 0.16681277 0.16095178\n",
      " 0.15040701 0.15373826 0.15892298 0.16012523 0.16814026 0.17715717\n",
      " 0.17485285 0.18131497 0.18780213 0.19048215 0.1892799  0.17266583\n",
      " 0.17543127 0.17717417 0.1781445  0.17861176 0.17877547 0.17875974\n",
      " 0.17863293 0.17842974 0.17816715 0.17785464 0.177499   0.17710704\n",
      " 0.17668571 0.17624235 0.1757841  0.17531759 0.17484874 0.17438234\n",
      " 0.17392233 0.17347142 0.17303167 0.17260428]\n",
      "23 day output [[0.17218965]]\n",
      "24 day input [0.21956168 0.21635567 0.22289292 0.22444584 0.22232937 0.21475266\n",
      " 0.21122104 0.18822793 0.18036318 0.18274264 0.17871008 0.17815905\n",
      " 0.1777082  0.18189105 0.17685661 0.17465247 0.1682154  0.16944271\n",
      " 0.17282405 0.17630557 0.18604884 0.17417658 0.17976205 0.18371947\n",
      " 0.19356293 0.20240451 0.20295554 0.20693801 0.20753914 0.19053225\n",
      " 0.17713212 0.17868503 0.18164058 0.17397621 0.16874139 0.17257358\n",
      " 0.17074515 0.17815905 0.18091421 0.1719474  0.16804008 0.17019411\n",
      " 0.17342517 0.16310582 0.15927364 0.15992486 0.1612273  0.16758923\n",
      " 0.16420789 0.16736381 0.17049468 0.17695679 0.18071384 0.17921102\n",
      " 0.18274264 0.18502192 0.18036318 0.18003757 0.1761052  0.17282405\n",
      " 0.17187226 0.16541014 0.16571071 0.16681277 0.16095178 0.15040701\n",
      " 0.15373826 0.15892298 0.16012523 0.16814026 0.17715717 0.17485285\n",
      " 0.18131497 0.18780213 0.19048215 0.1892799  0.17266583 0.17543127\n",
      " 0.17717417 0.1781445  0.17861176 0.17877547 0.17875974 0.17863293\n",
      " 0.17842974 0.17816715 0.17785464 0.177499   0.17710704 0.17668571\n",
      " 0.17624235 0.1757841  0.17531759 0.17484874 0.17438234 0.17392233\n",
      " 0.17347142 0.17303167 0.17260428 0.17218965]\n",
      "24 day output [[0.17178792]]\n",
      "25 day input [0.21635567 0.22289292 0.22444584 0.22232937 0.21475266 0.21122104\n",
      " 0.18822793 0.18036318 0.18274264 0.17871008 0.17815905 0.1777082\n",
      " 0.18189105 0.17685661 0.17465247 0.1682154  0.16944271 0.17282405\n",
      " 0.17630557 0.18604884 0.17417658 0.17976205 0.18371947 0.19356293\n",
      " 0.20240451 0.20295554 0.20693801 0.20753914 0.19053225 0.17713212\n",
      " 0.17868503 0.18164058 0.17397621 0.16874139 0.17257358 0.17074515\n",
      " 0.17815905 0.18091421 0.1719474  0.16804008 0.17019411 0.17342517\n",
      " 0.16310582 0.15927364 0.15992486 0.1612273  0.16758923 0.16420789\n",
      " 0.16736381 0.17049468 0.17695679 0.18071384 0.17921102 0.18274264\n",
      " 0.18502192 0.18036318 0.18003757 0.1761052  0.17282405 0.17187226\n",
      " 0.16541014 0.16571071 0.16681277 0.16095178 0.15040701 0.15373826\n",
      " 0.15892298 0.16012523 0.16814026 0.17715717 0.17485285 0.18131497\n",
      " 0.18780213 0.19048215 0.1892799  0.17266583 0.17543127 0.17717417\n",
      " 0.1781445  0.17861176 0.17877547 0.17875974 0.17863293 0.17842974\n",
      " 0.17816715 0.17785464 0.177499   0.17710704 0.17668571 0.17624235\n",
      " 0.1757841  0.17531759 0.17484874 0.17438234 0.17392233 0.17347142\n",
      " 0.17303167 0.17260428 0.17218965 0.17178792]\n",
      "25 day output [[0.17139876]]\n",
      "26 day input [0.22289292 0.22444584 0.22232937 0.21475266 0.21122104 0.18822793\n",
      " 0.18036318 0.18274264 0.17871008 0.17815905 0.1777082  0.18189105\n",
      " 0.17685661 0.17465247 0.1682154  0.16944271 0.17282405 0.17630557\n",
      " 0.18604884 0.17417658 0.17976205 0.18371947 0.19356293 0.20240451\n",
      " 0.20295554 0.20693801 0.20753914 0.19053225 0.17713212 0.17868503\n",
      " 0.18164058 0.17397621 0.16874139 0.17257358 0.17074515 0.17815905\n",
      " 0.18091421 0.1719474  0.16804008 0.17019411 0.17342517 0.16310582\n",
      " 0.15927364 0.15992486 0.1612273  0.16758923 0.16420789 0.16736381\n",
      " 0.17049468 0.17695679 0.18071384 0.17921102 0.18274264 0.18502192\n",
      " 0.18036318 0.18003757 0.1761052  0.17282405 0.17187226 0.16541014\n",
      " 0.16571071 0.16681277 0.16095178 0.15040701 0.15373826 0.15892298\n",
      " 0.16012523 0.16814026 0.17715717 0.17485285 0.18131497 0.18780213\n",
      " 0.19048215 0.1892799  0.17266583 0.17543127 0.17717417 0.1781445\n",
      " 0.17861176 0.17877547 0.17875974 0.17863293 0.17842974 0.17816715\n",
      " 0.17785464 0.177499   0.17710704 0.17668571 0.17624235 0.1757841\n",
      " 0.17531759 0.17484874 0.17438234 0.17392233 0.17347142 0.17303167\n",
      " 0.17260428 0.17218965 0.17178792 0.17139876]\n",
      "26 day output [[0.17102143]]\n",
      "27 day input [0.22444584 0.22232937 0.21475266 0.21122104 0.18822793 0.18036318\n",
      " 0.18274264 0.17871008 0.17815905 0.1777082  0.18189105 0.17685661\n",
      " 0.17465247 0.1682154  0.16944271 0.17282405 0.17630557 0.18604884\n",
      " 0.17417658 0.17976205 0.18371947 0.19356293 0.20240451 0.20295554\n",
      " 0.20693801 0.20753914 0.19053225 0.17713212 0.17868503 0.18164058\n",
      " 0.17397621 0.16874139 0.17257358 0.17074515 0.17815905 0.18091421\n",
      " 0.1719474  0.16804008 0.17019411 0.17342517 0.16310582 0.15927364\n",
      " 0.15992486 0.1612273  0.16758923 0.16420789 0.16736381 0.17049468\n",
      " 0.17695679 0.18071384 0.17921102 0.18274264 0.18502192 0.18036318\n",
      " 0.18003757 0.1761052  0.17282405 0.17187226 0.16541014 0.16571071\n",
      " 0.16681277 0.16095178 0.15040701 0.15373826 0.15892298 0.16012523\n",
      " 0.16814026 0.17715717 0.17485285 0.18131497 0.18780213 0.19048215\n",
      " 0.1892799  0.17266583 0.17543127 0.17717417 0.1781445  0.17861176\n",
      " 0.17877547 0.17875974 0.17863293 0.17842974 0.17816715 0.17785464\n",
      " 0.177499   0.17710704 0.17668571 0.17624235 0.1757841  0.17531759\n",
      " 0.17484874 0.17438234 0.17392233 0.17347142 0.17303167 0.17260428\n",
      " 0.17218965 0.17178792 0.17139876 0.17102143]\n",
      "27 day output [[0.17065513]]\n",
      "28 day input [0.22232937 0.21475266 0.21122104 0.18822793 0.18036318 0.18274264\n",
      " 0.17871008 0.17815905 0.1777082  0.18189105 0.17685661 0.17465247\n",
      " 0.1682154  0.16944271 0.17282405 0.17630557 0.18604884 0.17417658\n",
      " 0.17976205 0.18371947 0.19356293 0.20240451 0.20295554 0.20693801\n",
      " 0.20753914 0.19053225 0.17713212 0.17868503 0.18164058 0.17397621\n",
      " 0.16874139 0.17257358 0.17074515 0.17815905 0.18091421 0.1719474\n",
      " 0.16804008 0.17019411 0.17342517 0.16310582 0.15927364 0.15992486\n",
      " 0.1612273  0.16758923 0.16420789 0.16736381 0.17049468 0.17695679\n",
      " 0.18071384 0.17921102 0.18274264 0.18502192 0.18036318 0.18003757\n",
      " 0.1761052  0.17282405 0.17187226 0.16541014 0.16571071 0.16681277\n",
      " 0.16095178 0.15040701 0.15373826 0.15892298 0.16012523 0.16814026\n",
      " 0.17715717 0.17485285 0.18131497 0.18780213 0.19048215 0.1892799\n",
      " 0.17266583 0.17543127 0.17717417 0.1781445  0.17861176 0.17877547\n",
      " 0.17875974 0.17863293 0.17842974 0.17816715 0.17785464 0.177499\n",
      " 0.17710704 0.17668571 0.17624235 0.1757841  0.17531759 0.17484874\n",
      " 0.17438234 0.17392233 0.17347142 0.17303167 0.17260428 0.17218965\n",
      " 0.17178792 0.17139876 0.17102143 0.17065513]\n",
      "28 day output [[0.17029901]]\n",
      "29 day input [0.21475266 0.21122104 0.18822793 0.18036318 0.18274264 0.17871008\n",
      " 0.17815905 0.1777082  0.18189105 0.17685661 0.17465247 0.1682154\n",
      " 0.16944271 0.17282405 0.17630557 0.18604884 0.17417658 0.17976205\n",
      " 0.18371947 0.19356293 0.20240451 0.20295554 0.20693801 0.20753914\n",
      " 0.19053225 0.17713212 0.17868503 0.18164058 0.17397621 0.16874139\n",
      " 0.17257358 0.17074515 0.17815905 0.18091421 0.1719474  0.16804008\n",
      " 0.17019411 0.17342517 0.16310582 0.15927364 0.15992486 0.1612273\n",
      " 0.16758923 0.16420789 0.16736381 0.17049468 0.17695679 0.18071384\n",
      " 0.17921102 0.18274264 0.18502192 0.18036318 0.18003757 0.1761052\n",
      " 0.17282405 0.17187226 0.16541014 0.16571071 0.16681277 0.16095178\n",
      " 0.15040701 0.15373826 0.15892298 0.16012523 0.16814026 0.17715717\n",
      " 0.17485285 0.18131497 0.18780213 0.19048215 0.1892799  0.17266583\n",
      " 0.17543127 0.17717417 0.1781445  0.17861176 0.17877547 0.17875974\n",
      " 0.17863293 0.17842974 0.17816715 0.17785464 0.177499   0.17710704\n",
      " 0.17668571 0.17624235 0.1757841  0.17531759 0.17484874 0.17438234\n",
      " 0.17392233 0.17347142 0.17303167 0.17260428 0.17218965 0.17178792\n",
      " 0.17139876 0.17102143 0.17065513 0.17029901]\n",
      "29 day output [[0.169952]]\n",
      "[[0.17266583442687988], [0.1754312664270401], [0.1771741658449173], [0.17814449965953827], [0.17861175537109375], [0.17877547442913055], [0.17875973880290985], [0.1786329299211502], [0.1784297376871109], [0.17816714942455292], [0.17785464227199554], [0.17749899625778198], [0.177107036113739], [0.17668570578098297], [0.17624235153198242], [0.17578409612178802], [0.17531758546829224], [0.174848735332489], [0.17438234388828278], [0.1739223301410675], [0.17347142100334167], [0.17303167283535004], [0.1726042777299881], [0.1721896529197693], [0.17178791761398315], [0.17139875888824463], [0.17102143168449402], [0.17065513134002686], [0.1702990084886551], [0.16995200514793396]]\n"
     ]
    }
   ],
   "source": [
    "# demonstrate prediction for next 30 days\n",
    "from numpy import array\n",
    "\n",
    "lst_output=[]\n",
    "n_steps=100\n",
    "i=0\n",
    "while(i<30):\n",
    "    \n",
    "    if(len(temp_input)>100):\n",
    "        #print(temp_input)\n",
    "        x_input=np.array(temp_input[1:])\n",
    "        print(\"{} day input {}\".format(i,x_input))\n",
    "        x_input=x_input.reshape(1,-1)\n",
    "        x_input = x_input.reshape((1, n_steps, 1))\n",
    "        #print(x_input)\n",
    "        yhat = model.predict(x_input, verbose=0)\n",
    "        print(\"{} day output {}\".format(i,yhat))\n",
    "        temp_input.extend(yhat[0].tolist())\n",
    "        temp_input=temp_input[1:]\n",
    "        #print(temp_input)\n",
    "        lst_output.extend(yhat.tolist())\n",
    "        i=i+1\n",
    "    else:\n",
    "        x_input = x_input.reshape((1, n_steps,1))\n",
    "        yhat = model.predict(x_input, verbose=0)\n",
    "        print(yhat[0])\n",
    "        temp_input.extend(yhat[0].tolist())\n",
    "        print(len(temp_input))\n",
    "        lst_output.extend(yhat.tolist())\n",
    "        i=i+1\n",
    "    \n",
    "\n",
    "print(lst_output)"
   ]
  },
  {
   "cell_type": "code",
   "execution_count": 36,
   "metadata": {},
   "outputs": [],
   "source": [
    "day_new=np.arange(1,101)\n",
    "day_pred=np.arange(101,131)"
   ]
  },
  {
   "cell_type": "markdown",
   "metadata": {},
   "source": [
    "### Plot the continous 30 days prediction"
   ]
  },
  {
   "cell_type": "code",
   "execution_count": 37,
   "metadata": {},
   "outputs": [
    {
     "data": {
      "text/plain": [
       "<matplotlib.legend.Legend at 0x286acd7f610>"
      ]
     },
     "execution_count": 37,
     "metadata": {},
     "output_type": "execute_result"
    },
    {
     "data": {
      "image/png": "[encoded data removed]",
      "text/plain": [
       "<Figure size 640x480 with 1 Axes>"
      ]
     },
     "metadata": {},
     "output_type": "display_data"
    }
   ],
   "source": [
    "plt.plot(day_new,scaler.inverse_transform(df1[1375:]),label='Original 100 days data')\n",
    "plt.plot(day_pred,scaler.inverse_transform(lst_output),label='Next 30 days prediction')\n",
    "plt.legend()\n",
    "\n"
   ]
  },
  {
   "cell_type": "markdown",
   "metadata": {},
   "source": [
    "# Thank you"
   ]
  },
  {
   "cell_type": "code",
   "execution_count": null,
   "metadata": {},
   "outputs": [],
   "source": []
  }
 ],
 "metadata": {
  "kernelspec": {
   "display_name": "Python 3 (ipykernel)",
   "language": "python",
   "name": "python3"
  },
  "language_info": {
   "codemirror_mode": {
    "name": "ipython",
    "version": 3
   },
   "file_extension": ".py",
   "mimetype": "text/x-python",
   "name": "python",
   "nbconvert_exporter": "python",
   "pygments_lexer": "ipython3",
   "version": "3.11.5"
  }
 },
 "nbformat": 4,
 "nbformat_minor": 2
}
